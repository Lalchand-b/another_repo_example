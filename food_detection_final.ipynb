{
  "nbformat": 4,
  "nbformat_minor": 0,
  "metadata": {
    "colab": {
      "provenance": [],
      "gpuType": "T4",
      "include_colab_link": true
    },
    "kernelspec": {
      "name": "python3",
      "display_name": "Python 3"
    },
    "language_info": {
      "name": "python"
    },
    "accelerator": "GPU"
  },
  "cells": [
    {
      "cell_type": "markdown",
      "metadata": {
        "id": "view-in-github",
        "colab_type": "text"
      },
      "source": [
        "<a href=\"https://colab.research.google.com/github/Lalchand-b/another_repo_example/blob/main/food_detection_final.ipynb\" target=\"_parent\"><img src=\"https://colab.research.google.com/assets/colab-badge.svg\" alt=\"Open In Colab\"/></a>"
      ]
    },
    {
      "cell_type": "code",
      "execution_count": null,
      "metadata": {
        "colab": {
          "base_uri": "https://localhost:8080/"
        },
        "id": "gFL1OAa4eWqm",
        "outputId": "3933b0b0-1c82-4faf-8625-bb7fdc570330"
      },
      "outputs": [
        {
          "output_type": "stream",
          "name": "stdout",
          "text": [
            "Drive already mounted at /content/drive; to attempt to forcibly remount, call drive.mount(\"/content/drive\", force_remount=True).\n",
            "Model loaded successfully!\n"
          ]
        }
      ],
      "source": [
        "from tensorflow.keras.models import load_model\n",
        "from google.colab import drive\n",
        "\n",
        "# Mount Google Drive\n",
        "drive.mount('/content/drive')\n",
        "\n",
        "# Load the saved model\n",
        "model_path = \"/content/drive/MyDrive/best_model_11class.keras\"  # Adjust the path if needed\n",
        "model_best = load_model(model_path)\n",
        "\n",
        "print(\"Model loaded successfully!\")"
      ]
    },
    {
      "cell_type": "code",
      "execution_count": null,
      "metadata": {
        "colab": {
          "base_uri": "https://localhost:8080/"
        },
        "id": "NRUxxY1tCXtP",
        "outputId": "77827f36-573d-4f19-a396-be59c12cacb2"
      },
      "outputs": [
        {
          "output_type": "stream",
          "name": "stdout",
          "text": [
            "CPU times: user 2.05 s, sys: 236 ms, total: 2.29 s\n",
            "Wall time: 2.3 s\n"
          ]
        }
      ],
      "source": [
        "%%time\n",
        "from tensorflow import keras\n",
        "from keras import backend as K\n",
        "# Loading the best saved model to make predictions\n",
        "K.clear_session()\n",
        "model_best = load_model('/content/drive/MyDrive/best_model_11class.keras',compile = False)"
      ]
    },
    {
      "cell_type": "code",
      "execution_count": null,
      "metadata": {
        "colab": {
          "base_uri": "https://localhost:8080/"
        },
        "id": "ccN1T2q8Ch9_",
        "outputId": "514eb59f-e53e-4c58-cc51-5ab2a612ebfc"
      },
      "outputs": [
        {
          "output_type": "stream",
          "name": "stdout",
          "text": [
            "--2025-04-14 14:22:00--  https://www.publicdomainpictures.net/pictures/110000/nahled/halloween-witch-cupcakes.jpg\n",
            "Resolving www.publicdomainpictures.net (www.publicdomainpictures.net)... 104.20.122.60, 172.67.1.236, 104.20.123.60, ...\n",
            "Connecting to www.publicdomainpictures.net (www.publicdomainpictures.net)|104.20.122.60|:443... connected.\n",
            "HTTP request sent, awaiting response... 200 OK\n",
            "Length: 48618 (47K) [image/jpeg]\n",
            "Saving to: ‘cupcakes.jpg’\n",
            "\n",
            "cupcakes.jpg        100%[===================>]  47.48K  --.-KB/s    in 0.008s  \n",
            "\n",
            "2025-04-14 14:22:00 (6.16 MB/s) - ‘cupcakes.jpg’ saved [48618/48618]\n",
            "\n",
            "--2025-04-14 14:22:00--  https://www.sidechef.com/recipe/b75f5913-ca28-41a7-b985-30ab40045d7a.jpg?d=1408x1120\n",
            "Resolving www.sidechef.com (www.sidechef.com)... 18.164.174.91, 18.164.174.49, 18.164.174.70, ...\n",
            "Connecting to www.sidechef.com (www.sidechef.com)|18.164.174.91|:443... connected.\n",
            "HTTP request sent, awaiting response... 200 OK\n",
            "Length: 163652 (160K) [image/jpeg]\n",
            "Saving to: ‘springrolls.jpg’\n",
            "\n",
            "springrolls.jpg     100%[===================>] 159.82K  --.-KB/s    in 0.02s   \n",
            "\n",
            "2025-04-14 14:22:00 (7.38 MB/s) - ‘springrolls.jpg’ saved [163652/163652]\n",
            "\n",
            "--2025-04-14 14:22:01--  https://c1.staticflickr.com/1/84/262952165_7ba3466108_z.jpg?zz=1\n",
            "Resolving c1.staticflickr.com (c1.staticflickr.com)... 18.173.119.77, 2600:9000:2366:c00:0:5a51:64c9:c681, 2600:9000:2366:8800:0:5a51:64c9:c681, ...\n",
            "Connecting to c1.staticflickr.com (c1.staticflickr.com)|18.173.119.77|:443... connected.\n",
            "HTTP request sent, awaiting response... 200 OK\n",
            "Length: unspecified [image/jpeg]\n",
            "Saving to: ‘garlicbread.jpg’\n",
            "\n",
            "garlicbread.jpg         [ <=>                ]  57.52K  --.-KB/s    in 0.02s   \n",
            "\n",
            "2025-04-14 14:22:01 (3.09 MB/s) - ‘garlicbread.jpg’ saved [58898]\n",
            "\n"
          ]
        }
      ],
      "source": [
        "# Downloading images from internet using the URLs\n",
        "!wget -O cupcakes.jpg https://www.publicdomainpictures.net/pictures/110000/nahled/halloween-witch-cupcakes.jpg\n",
        "!wget -O springrolls.jpg https://www.sidechef.com/recipe/b75f5913-ca28-41a7-b985-30ab40045d7a.jpg?d=1408x1120\n",
        "# !wget -O pizza.jpg http://104.130.3.186/assets/itemimages/400/400/3/default_9b4106b8f65359684b3836096b4524c8_pizza%20dreamstimesmall_94940296.jpg\n",
        "!wget -O garlicbread.jpg https://c1.staticflickr.com/1/84/262952165_7ba3466108_z.jpg?zz=1\n",
        "\n",
        "# If you have an image in your local computer and want to try it, uncomment the below code to upload the image files\n",
        "\n",
        "\n",
        "# from google.colab import files\n",
        "# image = files.upload()"
      ]
    },
    {
      "cell_type": "code",
      "source": [
        "import os\n",
        "import numpy as np\n",
        "from tensorflow.keras.preprocessing import image\n",
        "#from tensorflow.keras.applications.imagenet_utils import preprocess_input, decode_predictions\n",
        "from tensorflow.keras.applications.imagenet_utils import preprocess_input\n",
        "\n",
        "\n",
        "def predict_class(model, images, show_imgs=False):\n",
        "    \"\"\"Predicts the class of an image using a trained model.\n",
        "\n",
        "    Args:\n",
        "        model: The trained Keras model.\n",
        "        images: A list of image file paths.\n",
        "        show_imgs: Whether to display the images. Defaults to False.\n",
        "\n",
        "    Returns:\n",
        "        None. Prints the predicted class for each image.\n",
        "    \"\"\"\n",
        "    # Assuming your class labels are stored in a list called 'class_names'\n",
        "    class_names = ['apple_pie', 'beef_carpaccio', 'bibimbap', 'cup_cakes', 'foie_gras', 'french_fries', 'garlic_bread', 'pizza', 'spring_rolls', 'spaghetti_carbonara', 'strawberry_shortcake']  # Replace with your actual class names\n",
        "\n",
        "    for img_path in images:\n",
        "        img = image.load_img(img_path, target_size=(224, 224))\n",
        "        x = image.img_to_array(img)\n",
        "        x = np.expand_dims(x, axis=0)\n",
        "        x = preprocess_input(x)\n",
        "\n",
        "        preds = model.predict(x)\n",
        "        # Get the index of the predicted class\n",
        "        predicted_class_index = np.argmax(preds)\n",
        "        # Get the predicted class name using the class_names list\n",
        "        predicted_class_name = class_names[predicted_class_index]\n",
        "\n",
        "        print('Predicted:', predicted_class_name)"
      ],
      "metadata": {
        "id": "kyYBlSyVxpA0"
      },
      "execution_count": null,
      "outputs": []
    },
    {
      "cell_type": "code",
      "execution_count": null,
      "metadata": {
        "colab": {
          "base_uri": "https://localhost:8080/"
        },
        "id": "_06bsq0XCp_0",
        "outputId": "20576bb6-c1f5-4a30-99f0-ccfcad67f9ad"
      },
      "outputs": [
        {
          "output_type": "stream",
          "name": "stdout",
          "text": [
            "\u001b[1m1/1\u001b[0m \u001b[32m━━━━━━━━━━━━━━━━━━━━\u001b[0m\u001b[37m\u001b[0m \u001b[1m8s\u001b[0m 8s/step\n",
            "Predicted: cup_cakes\n"
          ]
        }
      ],
      "source": [
        "# Make a list of downloaded images and test the trained model\n",
        "images = []\n",
        "\n",
        "images.append('cupcakes.jpg')\n",
        "# images.append('pizza.jpg')\n",
        "images.append('springrolls.jpg')\n",
        "images.append('garlicbread.jpg')\n",
        "predict_class(model_best, images, True)"
      ]
    },
    {
      "cell_type": "code",
      "execution_count": null,
      "metadata": {
        "id": "5TKYglR2PxCD"
      },
      "outputs": [],
      "source": [
        "os.chdir(\"/content\")\n"
      ]
    },
    {
      "cell_type": "code",
      "source": [],
      "metadata": {
        "id": "hbJeyrAX1iNd"
      },
      "execution_count": null,
      "outputs": []
    },
    {
      "cell_type": "code",
      "execution_count": null,
      "metadata": {
        "id": "xK4bqLc-wr4s",
        "colab": {
          "base_uri": "https://localhost:8080/"
        },
        "outputId": "8ba5315e-2c91-4269-98e0-128b3772d106"
      },
      "outputs": [
        {
          "output_type": "stream",
          "name": "stdout",
          "text": [
            "Enter your name: lalchand\n",
            "Enter your weight in kg: 53\n",
            "Enter your height in cm: 152\n",
            "enter your age: 21\n",
            "enter your gender: male\n",
            "Your BMI is 22.9.\n",
            "You are normal weight.\n"
          ]
        }
      ],
      "source": [
        "def main():\n",
        "\n",
        "  # Get the user's name\n",
        "  name= str(input(\"Enter your name: \"))\n",
        "  # Get the user's weight in kilograms.\n",
        "  weight = float(input(\"Enter your weight in kg: \"))\n",
        "\n",
        "  # Get the user's height in centimeters.\n",
        "  height = float(input(\"Enter your height in cm: \"))\n",
        "  # Get the user's age\n",
        "  age=int(input(\"enter your age: \"))\n",
        "  # get the user gender\n",
        "  gender=str(input(\"enter your gender: \"))\n",
        "\n",
        "  # Calculate the BMI.\n",
        "  # The calculate_bmi function is defined here\n",
        "  def calculate_bmi(weight, height):\n",
        "    # Convert height to meters\n",
        "    height_m = height / 100\n",
        "    bmi = weight / (height_m ** 2)\n",
        "    return bmi\n",
        "\n",
        "  bmi = calculate_bmi(weight, height)\n",
        "\n",
        "  # Print the BMI and a message indicating whether the user is underweight, normal weight, overweight, obese, or morbidly obese.\n",
        "  print(f\"Your BMI is {round(bmi, 1)}.\")\n",
        "  if bmi < 18.5:\n",
        "    print(\"You are underweight.\")\n",
        "  elif bmi <= 24.9:\n",
        "    print(\"You are normal weight.\")\n",
        "  elif bmi <= 29.9:\n",
        "    print(\"You are overweight.\")\n",
        "  elif bmi <= 34.9:\n",
        "    print(\"You are obese.\")\n",
        "  else:\n",
        "    print(\"You are morbidly obese.\")\n",
        "\n",
        "if __name__ == \"__main__\":\n",
        "  main()\n"
      ]
    }
  ]
}